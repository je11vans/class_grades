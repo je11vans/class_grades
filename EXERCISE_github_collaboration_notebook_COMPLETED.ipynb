{
 "cells": [
  {
   "cell_type": "code",
   "execution_count": 16,
   "metadata": {
    "collapsed": false
   },
   "outputs": [
    {
     "ename": "TypeError",
     "evalue": "object of type 'file' has no len()",
     "output_type": "error",
     "traceback": [
      "\u001b[1;31m---------------------------------------------------------------------------\u001b[0m",
      "\u001b[1;31mTypeError\u001b[0m                                 Traceback (most recent call last)",
      "\u001b[1;32m<ipython-input-16-34cc3219ecc9>\u001b[0m in \u001b[0;36m<module>\u001b[1;34m()\u001b[0m\n\u001b[0;32m      8\u001b[0m \u001b[0mgrades\u001b[0m \u001b[1;33m=\u001b[0m \u001b[0mread_data\u001b[0m\u001b[1;33m(\u001b[0m\u001b[0minfile\u001b[0m\u001b[1;33m)\u001b[0m\u001b[1;33m\u001b[0m\u001b[0m\n\u001b[0;32m      9\u001b[0m \u001b[1;33m\u001b[0m\u001b[0m\n\u001b[1;32m---> 10\u001b[1;33m \u001b[1;32mprint\u001b[0m \u001b[1;34m\"There are %d grades in this file.\"\u001b[0m \u001b[1;33m%\u001b[0m \u001b[1;33m(\u001b[0m\u001b[0mlen\u001b[0m\u001b[1;33m(\u001b[0m\u001b[0mgrades\u001b[0m\u001b[1;33m)\u001b[0m\u001b[1;33m)\u001b[0m\u001b[1;33m\u001b[0m\u001b[0m\n\u001b[0m\u001b[0;32m     11\u001b[0m \u001b[1;33m\u001b[0m\u001b[0m\n\u001b[0;32m     12\u001b[0m \u001b[0mmean\u001b[0m\u001b[1;33m,\u001b[0m\u001b[0mstd\u001b[0m\u001b[1;33m,\u001b[0m\u001b[0mhigh_score\u001b[0m\u001b[1;33m,\u001b[0m\u001b[0mlow_score\u001b[0m \u001b[1;33m=\u001b[0m \u001b[0mstatistics\u001b[0m\u001b[1;33m(\u001b[0m\u001b[0mgrades\u001b[0m\u001b[1;33m)\u001b[0m\u001b[1;33m\u001b[0m\u001b[0m\n",
      "\u001b[1;31mTypeError\u001b[0m: object of type 'file' has no len()"
     ]
    }
   ],
   "source": [
    "# Read in the data and pull out the grades\n",
    "\n",
    "from adas_code import read_data\n",
    "from babbagescode import statistics\n",
    "\n",
    "infile = \"grades0.csv\"\n",
    "\n",
    "grades = read_data(infile)\n",
    "\n",
    "print \"There are %d grades in this file.\" % (len(grades))\n",
    "\n",
    "mean,std,high_score,low_score = statistics(grades)\n",
    "\n",
    "print mean\n",
    "print std\n",
    "print high_score\n",
    "print low_score\n"
   ]
  },
  {
   "cell_type": "code",
   "execution_count": 23,
   "metadata": {
    "collapsed": false
   },
   "outputs": [
    {
     "name": "stdout",
     "output_type": "stream",
     "text": [
      "[66, 87, 86, 82, 76, 108, 63, 86, 70, 88, 86, 74, 94, 58, 91, 74, 91, 63, 89, 74, 86, 73, 67, 65, 97]\n"
     ]
    }
   ],
   "source": [
    "def read_data(file):\n",
    "    infile = open(file,'r')\n",
    "    numbers = []\n",
    "    for line in infile:\n",
    "        values = line.split(\",\") \n",
    "        numbers.append(int(values[1]))\n",
    "\n",
    "    return numbers\n",
    "\n",
    "grades = read_data(infile)\n",
    "print grades"
   ]
  },
  {
   "cell_type": "code",
   "execution_count": null,
   "metadata": {
    "collapsed": true
   },
   "outputs": [],
   "source": []
  }
 ],
 "metadata": {
  "kernelspec": {
   "display_name": "Python 2",
   "language": "python",
   "name": "python2"
  },
  "language_info": {
   "codemirror_mode": {
    "name": "ipython",
    "version": 2
   },
   "file_extension": ".py",
   "mimetype": "text/x-python",
   "name": "python",
   "nbconvert_exporter": "python",
   "pygments_lexer": "ipython2",
   "version": "2.7.10"
  }
 },
 "nbformat": 4,
 "nbformat_minor": 0
}
